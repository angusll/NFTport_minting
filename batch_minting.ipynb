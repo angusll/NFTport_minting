{
 "cells": [
  {
   "cell_type": "code",
   "execution_count": 14,
   "id": "11929e28-616e-48f9-9000-d41d3e6570a5",
   "metadata": {},
   "outputs": [],
   "source": [
    "import requests\n",
    "from pprint import pprint\n",
    "import json\n",
    "\n",
    "chain = 'polygon'\n",
    "contract_name = YOUR_CONTRACT_NAME\n",
    "owner_address = YOUR_WALLET_ADDRESS\n",
    "metadata_updatable = True\n",
    "ntfport_api = NFTPORT_API_KEY"
   ]
  },
  {
   "cell_type": "markdown",
   "id": "2145fbbf-fb44-4676-9cd4-179ee5b5269c",
   "metadata": {},
   "source": [
    "# Create contract using NFTport"
   ]
  },
  {
   "cell_type": "code",
   "execution_count": null,
   "id": "1cb982ac-30e2-4682-aca0-bdf3ba61ea89",
   "metadata": {},
   "outputs": [],
   "source": [
    "url = \"https://api.nftport.xyz/v0/contracts\"\n",
    "payload = {\n",
    "            \"chain\": chain,\n",
    "            \"name\": contract_name,\n",
    "            \"symbol\": \"c\",\n",
    "            \"owner_address\": owner_address,\n",
    "            \"metadata_updatable\": metadata_updatable\n",
    "            }\n",
    "\n",
    "headers = {\n",
    "    'Content-Type': \"application/json\",\n",
    "    'Prefer': \"code=200\",\n",
    "    'Authorization': ntfport_api\n",
    "    }\n",
    "\n",
    "contact_response = requests.request(\"POST\", url, json=payload, headers=headers)\n",
    "\n",
    "pprint(contact_response.json())\n",
    "transaction_hash = contact_response.json()['transaction_hash']"
   ]
  },
  {
   "cell_type": "markdown",
   "id": "99a7a748-e158-4390-ad5f-e196482d5366",
   "metadata": {
    "tags": []
   },
   "source": [
    "# get contact address"
   ]
  },
  {
   "cell_type": "code",
   "execution_count": null,
   "id": "d1c635a0-ae97-48b8-887d-5dbdeaf5e301",
   "metadata": {},
   "outputs": [],
   "source": [
    "query_url = f\"https://api.nftport.xyz/v0/contracts/{transaction_hash}\"\n",
    "\n",
    "querystring = {\"chain\":\"polygon\"}\n",
    "\n",
    "headers = {\n",
    "    'Content-Type': \"application/json\",\n",
    "    'Authorization': ntfport_api\n",
    "    }\n",
    "\n",
    "address_response = requests.request(\"GET\", query_url, headers=headers, params=querystring)\n",
    "contract_address = address_response.json()['contract_address']\n",
    "pprint(address_response.json())"
   ]
  },
  {
   "cell_type": "code",
   "execution_count": 19,
   "id": "e2c3922b-628d-42cb-bf70-6ec4ff2935d4",
   "metadata": {},
   "outputs": [],
   "source": [
    "d = contact_response.json()\n",
    "\n",
    "d.update({'contract_address':contract_address})\n",
    "# save contact address\n",
    "with open(f'{contract_name}_contract.json', 'w') as f:\n",
    "    json.dump(d,f)"
   ]
  },
  {
   "cell_type": "markdown",
   "id": "c71fe3c8-44b8-4cc2-be60-10d9a756be92",
   "metadata": {
    "tags": []
   },
   "source": [
    "# Upload to file and metadata IPFS"
   ]
  },
  {
   "cell_type": "code",
   "execution_count": null,
   "id": "295f9908-e71b-42cd-87f8-01978ba59b78",
   "metadata": {
    "scrolled": true,
    "tags": []
   },
   "outputs": [],
   "source": [
    "import requests\n",
    "import glob\n",
    "from pathlib import Path\n",
    "import json\n",
    "\n",
    "upload_file_url = \"https://api.nftport.xyz/v0/files\"\n",
    "metadata_url = \"https://api.nftport.xyz/v0/metadata\"\n",
    "fps = glob.glob(FILE_DIR)\n",
    "\n",
    "uri_dict = {}\n",
    "for i,fp in enumerate(fps):\n",
    "    filename = Path(fp).name\n",
    "    file = open(fp, \"rb\")\n",
    "    headers = {\n",
    "                \"Authorization\": ntfport_api,\n",
    "                'Prefer': \"code=200, example=default\",\n",
    "                }\n",
    "\n",
    "    upload_response = requests.post(upload_file_url,headers = headers,files={\"file\": file})\n",
    "    pprint(upload_response.json())\n",
    "    uploaded_url = upload_response.json()['ipfs_url']\n",
    "    \n",
    "    idx = str(i+1).zfill(4) # make item number 1 as 0001\n",
    "    body = {\n",
    "          \"name\": f\"{contract_name} #{idx}\",\n",
    "          \"description\": NFT_DESCRIPTION,\n",
    "          \"file_url\": uploaded_url\n",
    "        }\n",
    "\n",
    "\n",
    "\n",
    "    headers = {\n",
    "        'Content-Type': \"application/json\",\n",
    "        'Authorization': ntfport_api\n",
    "        }\n",
    "    metadata_response = requests.request(\"POST\", metadata_url, json=body, headers=headers)\n",
    "    metadata_uri = metadata_response.json()['metadata_uri']\n",
    "\n",
    "    pprint(metadata_response.json())\n",
    "    \n",
    "    uri_dict.update({filename:{\"uploaded_url\":uploaded_url, \"metadata_uri\":metadata_uri}})\n",
    "    \n",
    "# save uploaded url and metadata url of all NFTs    \n",
    "with open('minted.json', 'w') as fp:\n",
    "    json.dump(uri_dict, fp)"
   ]
  },
  {
   "cell_type": "markdown",
   "id": "548374dc-2406-4d65-ab9f-24a7ed383815",
   "metadata": {
    "tags": []
   },
   "source": [
    "# Mint NFT"
   ]
  },
  {
   "cell_type": "code",
   "execution_count": null,
   "id": "6c1b1f78-c03f-4230-942f-8126410f0d54",
   "metadata": {
    "scrolled": true,
    "tags": []
   },
   "outputs": [],
   "source": [
    "custome_mint_url = \"https://api.nftport.xyz/v0/mints/customizable\"\n",
    "\n",
    "# mint every NFTs\n",
    "for value in uri_dict.values():\n",
    "    metadata_uri = value[\"metadata_uri\"]\n",
    "    \n",
    "    body = {\n",
    "              \"chain\": \"polygon\",\n",
    "              \"contract_address\": contract_address,\n",
    "              \"metadata_uri\": metadata_uri,\n",
    "              \"mint_to_address\": owner_address\n",
    "            }\n",
    "    headers = {\n",
    "        'Content-Type': \"application/json\",\n",
    "        'Authorization': ntfport_api\n",
    "        }\n",
    "\n",
    "    response = requests.request(\"POST\", custome_mint_url, json=body, headers=headers)\n",
    "    pprint(response.json())"
   ]
  },
  {
   "cell_type": "code",
   "execution_count": null,
   "id": "7586ff6b-7edd-4270-a50f-85d59a70797d",
   "metadata": {},
   "outputs": [],
   "source": []
  },
  {
   "cell_type": "code",
   "execution_count": null,
   "id": "8fe4c386-b38d-46c9-ab4d-b40f9d696147",
   "metadata": {},
   "outputs": [],
   "source": []
  }
 ],
 "metadata": {
  "kernelspec": {
   "display_name": "Python 3 (ipykernel)",
   "language": "python",
   "name": "python3"
  },
  "language_info": {
   "codemirror_mode": {
    "name": "ipython",
    "version": 3
   },
   "file_extension": ".py",
   "mimetype": "text/x-python",
   "name": "python",
   "nbconvert_exporter": "python",
   "pygments_lexer": "ipython3",
   "version": "3.7.0"
  }
 },
 "nbformat": 4,
 "nbformat_minor": 5
}
